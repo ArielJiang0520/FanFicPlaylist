{
 "cells": [
  {
   "cell_type": "code",
   "execution_count": 6,
   "id": "green-violence",
   "metadata": {},
   "outputs": [],
   "source": [
    "import requests\n",
    "from bs4 import BeautifulSoup\n",
    "\n",
    "import os\n",
    "import re\n",
    "import pickle\n",
    "\n",
    "from tqdm import tqdm, trange"
   ]
  },
  {
   "cell_type": "code",
   "execution_count": 7,
   "id": "informal-irrigation",
   "metadata": {},
   "outputs": [],
   "source": [
    "GENIUS_API_TOKEN='0DRkNDsVx6eWmcAXzWNLct1DPEQ24l79DHvie_0YeGtXfih-pcl6BNO0uBVCIxQm'"
   ]
  },
  {
   "cell_type": "code",
   "execution_count": 8,
   "id": "internal-mitchell",
   "metadata": {},
   "outputs": [],
   "source": [
    "# Get artist object from Genius API\n",
    "def request_artist_info(artist_name, page):\n",
    "    conn_timeout = 1\n",
    "    read_timeout = 10\n",
    "    timeouts = (conn_timeout, read_timeout)\n",
    "    base_url = 'https://api.genius.com'\n",
    "    headers = {'Authorization': 'Bearer ' + GENIUS_API_TOKEN}\n",
    "    search_url = base_url + '/search?per_page=10&page=' + str(page)\n",
    "    data = {'q': artist_name}\n",
    "    response = requests.get(search_url, data=data, headers=headers, timeout=timeouts)\n",
    "    return response\n",
    "\n",
    "# Get Genius.com song url's from artist object\n",
    "def request_song_url(artist_name, song_cap):\n",
    "    page = 1\n",
    "    songs = []\n",
    "    zero_iter = 0\n",
    "    while True:\n",
    "        response = request_artist_info(artist_name, page)\n",
    "        json = response.json()\n",
    "        # Collect up to song_cap song objects from artist\n",
    "        song_info = []\n",
    "        for hit in json['response']['hits']:\n",
    "            if artist_name.lower() in hit['result']['primary_artist']['name'].lower():\n",
    "                song_info.append(hit)\n",
    "                \n",
    "        if not len(song_info):\n",
    "            zero_iter += 1\n",
    "        if zero_iter >= 3:\n",
    "            break\n",
    "#         print(f'song_info on page {page}: {len(song_info)}')\n",
    "\n",
    "        # Collect song URL's from song objects\n",
    "        for song in song_info:\n",
    "            if (len(songs) < song_cap):\n",
    "                # print(song['result'])\n",
    "                title = song['result']['title']\n",
    "                url = song['result']['url']\n",
    "                songs.append((title, url))\n",
    "            \n",
    "        if (len(songs) == song_cap):\n",
    "            break\n",
    "        else:\n",
    "            page += 1\n",
    "        \n",
    "    # print('Found {} songs by {}'.format(len(songs), artist_name))\n",
    "    return songs\n",
    "    \n",
    "# DEMO\n",
    "# request_song_url('j balvin', 2)"
   ]
  },
  {
   "cell_type": "code",
   "execution_count": 9,
   "id": "flush-candidate",
   "metadata": {},
   "outputs": [],
   "source": [
    "# Scrape lyrics from a Genius.com song URL\n",
    "def scrape_song_lyrics(url):\n",
    "    try:\n",
    "        conn_timeout = 1\n",
    "        read_timeout = 10\n",
    "        timeouts = (conn_timeout, read_timeout)\n",
    "        page = requests.get(url, timeout=timeouts)\n",
    "        html = BeautifulSoup(page.text, 'html.parser')\n",
    "        lyrics = html.find('div', class_='lyrics').get_text()\n",
    "        #remove identifiers like chorus, verse, etc\n",
    "        lyrics = re.sub(r'[\\(\\[].*?[\\)\\]]', '', lyrics)\n",
    "        #remove empty lines\n",
    "        lyrics = os.linesep.join([s for s in lyrics.splitlines() if s])         \n",
    "        return lyrics\n",
    "    except:\n",
    "        print(f'error getting lyrics from {url}')\n",
    "        return ''\n",
    "\n",
    "# # DEMO\n",
    "# scrape_song_lyrics('https://genius.com/Lana-del-rey-young-and-beautiful-lyrics')"
   ]
  },
  {
   "cell_type": "code",
   "execution_count": 10,
   "id": "pharmaceutical-movement",
   "metadata": {},
   "outputs": [],
   "source": [
    "def get_lyrics(artist_name, song_count):\n",
    "    output = []\n",
    "    res = request_song_url(artist_name, song_count)\n",
    "    if not res: return []\n",
    "    \n",
    "    titles, urls = list(zip(*res))\n",
    "    for i, url in enumerate(tqdm(urls)):\n",
    "        lyrics = scrape_song_lyrics(url)\n",
    "        output.append((titles[i], lyrics))\n",
    "    \n",
    "    if not output:\n",
    "        print(f'no lyrics for {artist_name}')\n",
    "    return output"
   ]
  },
  {
   "cell_type": "code",
   "execution_count": 2,
   "id": "aging-explosion",
   "metadata": {},
   "outputs": [],
   "source": [
    "new_a = []\n",
    "with open('new_artists.txt', 'r+') as fp:\n",
    "    for line in fp:\n",
    "        new_a.append(line.strip('\\n'))\n"
   ]
  },
  {
   "cell_type": "code",
   "execution_count": 4,
   "metadata": {},
   "outputs": [
    {
     "output_type": "execute_result",
     "data": {
      "text/plain": [
       "['? & The Mysterions',\n",
       " 'Aaron Neville',\n",
       " 'Archie Bell & The Drells',\n",
       " 'Arthur Alexander',\n",
       " 'Arthur Conley']"
      ]
     },
     "metadata": {},
     "execution_count": 4
    }
   ],
   "source": [
    "new_a[:5]"
   ]
  },
  {
   "cell_type": "code",
   "execution_count": null,
   "metadata": {},
   "outputs": [],
   "source": []
  }
 ],
 "metadata": {
  "kernelspec": {
   "name": "python376jvsc74a57bd09916df59c5ddccd01d7fa257f8c55f4453e17f7782de5ae5980d7f04896c0499",
   "display_name": "Python 3.7.6 64-bit ('venv': conda)"
  },
  "language_info": {
   "codemirror_mode": {
    "name": "ipython",
    "version": 3
   },
   "file_extension": ".py",
   "mimetype": "text/x-python",
   "name": "python",
   "nbconvert_exporter": "python",
   "pygments_lexer": "ipython3",
   "version": "3.7.6-final"
  },
  "metadata": {
   "interpreter": {
    "hash": "9916df59c5ddccd01d7fa257f8c55f4453e17f7782de5ae5980d7f04896c0499"
   }
  }
 },
 "nbformat": 4,
 "nbformat_minor": 5
}